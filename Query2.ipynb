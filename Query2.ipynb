{
 "cells": [
  {
   "cell_type": "code",
   "execution_count": 1,
   "metadata": {},
   "outputs": [
    {
     "name": "stderr",
     "output_type": "stream",
     "text": [
      "25/03/29 20:42:36 WARN Utils: Your hostname, ana resolves to a loopback address: 127.0.1.1; using 192.168.110.240 instead (on interface wlo1)\n",
      "25/03/29 20:42:36 WARN Utils: Set SPARK_LOCAL_IP if you need to bind to another address\n",
      "Setting default log level to \"WARN\".\n",
      "To adjust logging level use sc.setLogLevel(newLevel). For SparkR, use setLogLevel(newLevel).\n",
      "25/03/29 20:42:37 WARN NativeCodeLoader: Unable to load native-hadoop library for your platform... using builtin-java classes where applicable\n",
      "25/03/29 20:42:39 WARN Utils: Service 'SparkUI' could not bind on port 4040. Attempting port 4041.\n"
     ]
    }
   ],
   "source": [
    "from pyspark.sql import SparkSession\n",
    "from pyspark.sql.functions import col, datediff, to_date, avg, count\n",
    "import json\n",
    "import matplotlib.pyplot as plt\n",
    "import numpy as np\n",
    "\n",
    "spark = SparkSession.builder \\\n",
    "    .appName(\"MySparkApp\") \\\n",
    "    .getOrCreate()\n"
   ]
  },
  {
   "cell_type": "code",
   "execution_count": 2,
   "metadata": {},
   "outputs": [
    {
     "name": "stderr",
     "output_type": "stream",
     "text": [
      "                                                                                \r"
     ]
    },
    {
     "name": "stdout",
     "output_type": "stream",
     "text": [
      "root\n",
      " |-- etag: string (nullable = true)\n",
      " |-- items: array (nullable = true)\n",
      " |    |-- element: struct (containsNull = true)\n",
      " |    |    |-- etag: string (nullable = true)\n",
      " |    |    |-- id: string (nullable = true)\n",
      " |    |    |-- kind: string (nullable = true)\n",
      " |    |    |-- snippet: struct (nullable = true)\n",
      " |    |    |    |-- assignable: boolean (nullable = true)\n",
      " |    |    |    |-- channelId: string (nullable = true)\n",
      " |    |    |    |-- title: string (nullable = true)\n",
      " |-- kind: string (nullable = true)\n",
      "\n",
      "+-----------+----------------+\n",
      "|category_id|   category_name|\n",
      "+-----------+----------------+\n",
      "|          1|Film & Animation|\n",
      "|          2|Autos & Vehicles|\n",
      "|         10|           Music|\n",
      "|         15|  Pets & Animals|\n",
      "|         17|          Sports|\n",
      "+-----------+----------------+\n",
      "only showing top 5 rows\n",
      "\n",
      "+-----------+----------------+\n",
      "|category_id|   category_name|\n",
      "+-----------+----------------+\n",
      "|          1|Film & Animation|\n",
      "|          2|Autos & Vehicles|\n",
      "|         10|           Music|\n",
      "|         15|  Pets & Animals|\n",
      "|         17|          Sports|\n",
      "+-----------+----------------+\n",
      "only showing top 5 rows\n",
      "\n",
      "+-----------+----------------+\n",
      "|category_id|   category_name|\n",
      "+-----------+----------------+\n",
      "|          1|Film & Animation|\n",
      "|          2|Autos & Vehicles|\n",
      "|         10|           Music|\n",
      "|         15|  Pets & Animals|\n",
      "|         17|          Sports|\n",
      "+-----------+----------------+\n",
      "only showing top 5 rows\n",
      "\n"
     ]
    }
   ],
   "source": [
    "from pyspark.sql.functions import explode\n",
    "\n",
    "# cargamos los jsons de las categorias con multiline = true ya que los jsons tienen más de una línea\n",
    "data_set_categories_MX = spark.read.option(\"multiline\", \"true\").json(\"hdfs://localhost:9000/user/hadoop/ana/datasets/MX_category_id.json\")\n",
    "data_set_categories_BR = spark.read.option(\"multiline\", \"true\").json(\"hdfs://localhost:9000/user/hadoop/ana/datasets/BR_category_id.json\")\n",
    "data_set_categories_US = spark.read.option(\"multiline\", \"true\").json(\"hdfs://localhost:9000/user/hadoop/ana/datasets/US_category_id.json\")\n",
    "\n",
    "# Veamos el esquema de uno de los dataframes\n",
    "data_set_categories_MX.printSchema()\n",
    "\n",
    "# Ahora queremos nada mas las columnas id y title, que es la información que nos interesa\n",
    "\n",
    "# Las columnas id y title están en formato de array, debemos aplanarlas para que sean valores individuales\n",
    "data_set_categories_MX = data_set_categories_MX.select(explode(col(\"items\")).alias(\"item\")) \\\n",
    "\t.select(col(\"item.id\").alias(\"category_id\"), col(\"item.snippet.title\").alias(\"category_name\"))\n",
    "data_set_categories_BR = data_set_categories_BR.select(explode(col(\"items\")).alias(\"item\")) \\\n",
    "\t.select(col(\"item.id\").alias(\"category_id\"), col(\"item.snippet.title\").alias(\"category_name\"))\n",
    "data_set_categories_US = data_set_categories_US.select(explode(col(\"items\")).alias(\"item\")) \\\n",
    "\t.select(col(\"item.id\").alias(\"category_id\"), col(\"item.snippet.title\").alias(\"category_name\"))\n",
    "\n",
    "# Ahora queremos ver los primeros 5 registros de cada dataframe\n",
    "data_set_categories_MX.show(5)\n",
    "data_set_categories_BR.show(5)\n",
    "data_set_categories_US.show(5)"
   ]
  },
  {
   "cell_type": "code",
   "execution_count": 3,
   "metadata": {},
   "outputs": [
    {
     "name": "stdout",
     "output_type": "stream",
     "text": [
      "Numero de registros en MX:  268598\n",
      "root\n",
      " |-- video_id: string (nullable = true)\n",
      " |-- title: string (nullable = true)\n",
      " |-- publishedAt: string (nullable = true)\n",
      " |-- channelId: string (nullable = true)\n",
      " |-- channelTitle: string (nullable = true)\n",
      " |-- categoryId: string (nullable = true)\n",
      " |-- trending_date: string (nullable = true)\n",
      " |-- tags: string (nullable = true)\n",
      " |-- view_count: string (nullable = true)\n",
      " |-- likes: string (nullable = true)\n",
      " |-- dislikes: string (nullable = true)\n",
      " |-- comment_count: string (nullable = true)\n",
      " |-- thumbnail_link: string (nullable = true)\n",
      " |-- comments_disabled: string (nullable = true)\n",
      " |-- ratings_disabled: string (nullable = true)\n",
      "\n"
     ]
    }
   ],
   "source": [
    "# cargamos el dataset modificado de MX\n",
    "data_set_MX = spark.read.csv(\"hdfs://localhost:9000/user/hadoop/ana/datasets/MX.csv\", header=True)\n",
    "# contar el numero de registros\n",
    "print(\"Numero de registros en MX: \", data_set_MX.count())\n",
    "# Vemos el esquema del dataframe\n",
    "data_set_MX.printSchema()"
   ]
  },
  {
   "cell_type": "code",
   "execution_count": 4,
   "metadata": {},
   "outputs": [
    {
     "name": "stdout",
     "output_type": "stream",
     "text": [
      "Numero de registros en BR:  268790\n",
      "root\n",
      " |-- video_id: string (nullable = true)\n",
      " |-- title: string (nullable = true)\n",
      " |-- publishedAt: string (nullable = true)\n",
      " |-- channelId: string (nullable = true)\n",
      " |-- channelTitle: string (nullable = true)\n",
      " |-- categoryId: string (nullable = true)\n",
      " |-- trending_date: string (nullable = true)\n",
      " |-- tags: string (nullable = true)\n",
      " |-- view_count: string (nullable = true)\n",
      " |-- likes: string (nullable = true)\n",
      " |-- dislikes: string (nullable = true)\n",
      " |-- comment_count: string (nullable = true)\n",
      " |-- thumbnail_link: string (nullable = true)\n",
      " |-- comments_disabled: string (nullable = true)\n",
      " |-- ratings_disabled: string (nullable = true)\n",
      "\n"
     ]
    }
   ],
   "source": [
    "# cargamos el dataset modificado de BR\n",
    "data_set_BR = spark.read.csv(\"hdfs://localhost:9000/user/hadoop/ana/datasets/BR.csv\", header=True)\n",
    "# contar el numero de registros\n",
    "print(\"Numero de registros en BR: \", data_set_BR.count())\n",
    "# Vemos el esquema del dataframe\n",
    "data_set_BR.printSchema()"
   ]
  },
  {
   "cell_type": "code",
   "execution_count": 5,
   "metadata": {},
   "outputs": [
    {
     "name": "stdout",
     "output_type": "stream",
     "text": [
      "Numero de registros en US:  268787\n",
      "root\n",
      " |-- video_id: string (nullable = true)\n",
      " |-- title: string (nullable = true)\n",
      " |-- publishedAt: string (nullable = true)\n",
      " |-- channelId: string (nullable = true)\n",
      " |-- channelTitle: string (nullable = true)\n",
      " |-- categoryId: string (nullable = true)\n",
      " |-- trending_date: string (nullable = true)\n",
      " |-- tags: string (nullable = true)\n",
      " |-- view_count: string (nullable = true)\n",
      " |-- likes: string (nullable = true)\n",
      " |-- dislikes: string (nullable = true)\n",
      " |-- comment_count: string (nullable = true)\n",
      " |-- thumbnail_link: string (nullable = true)\n",
      " |-- comments_disabled: string (nullable = true)\n",
      " |-- ratings_disabled: string (nullable = true)\n",
      "\n"
     ]
    }
   ],
   "source": [
    "# cargamos el dataset modificado de US\n",
    "data_set_US = spark.read.csv(\"hdfs://localhost:9000/user/hadoop/ana/datasets/US.csv\", header=True)\n",
    "# contar el numero de registros\n",
    "print(\"Numero de registros en US: \", data_set_US.count())\n",
    "# Vemos el esquema del dataframe\n",
    "data_set_US.printSchema()"
   ]
  },
  {
   "cell_type": "markdown",
   "metadata": {},
   "source": [
    "# Versión DataFrames"
   ]
  },
  {
   "cell_type": "code",
   "execution_count": 6,
   "metadata": {},
   "outputs": [
    {
     "name": "stderr",
     "output_type": "stream",
     "text": [
      "                                                                                \r"
     ]
    },
    {
     "name": "stdout",
     "output_type": "stream",
     "text": [
      "+----------+-------------+------------------------------+\n",
      "|categoryId|number_videos|promedio_diff_dias_a_tendencia|\n",
      "+----------+-------------+------------------------------+\n",
      "|1         |7229         |6.055056024346382             |\n",
      "|10        |61626        |5.990783111024568             |\n",
      "|15        |156          |6.455128205128205             |\n",
      "|17        |25385        |5.067086862320268             |\n",
      "|19        |1640         |5.517682926829268             |\n",
      "|2         |2488         |5.616961414790997             |\n",
      "|20        |42128        |5.888720091150779             |\n",
      "|22        |33959        |5.893135840277982             |\n",
      "|23        |9665         |5.635695809622349             |\n",
      "|24        |63158        |5.7662845561924065            |\n",
      "|25        |10307        |5.302803919666246             |\n",
      "|26        |6642         |5.760614272809395             |\n",
      "|27        |1941         |6.049459041731066             |\n",
      "|28        |2099         |5.851834206765126             |\n",
      "|29        |175          |5.662857142857143             |\n",
      "+----------+-------------+------------------------------+\n",
      "\n"
     ]
    },
    {
     "name": "stderr",
     "output_type": "stream",
     "text": [
      "[Stage 22:====>                                                   (1 + 11) / 12]\r"
     ]
    },
    {
     "name": "stdout",
     "output_type": "stream",
     "text": [
      "+----------+--------------------+-------------+------------------------------+\n",
      "|categoryId|category_name       |number_videos|promedio_diff_dias_a_tendencia|\n",
      "+----------+--------------------+-------------+------------------------------+\n",
      "|1         |Film & Animation    |7229         |6.055056024346382             |\n",
      "|2         |Autos & Vehicles    |2488         |5.616961414790997             |\n",
      "|10        |Music               |61626        |5.990783111024568             |\n",
      "|15        |Pets & Animals      |156          |6.455128205128205             |\n",
      "|17        |Sports              |25385        |5.067086862320268             |\n",
      "|19        |Travel & Events     |1640         |5.517682926829268             |\n",
      "|20        |Gaming              |42128        |5.888720091150779             |\n",
      "|22        |People & Blogs      |33959        |5.893135840277982             |\n",
      "|23        |Comedy              |9665         |5.635695809622349             |\n",
      "|24        |Entertainment       |63158        |5.7662845561924065            |\n",
      "|25        |News & Politics     |10307        |5.302803919666246             |\n",
      "|26        |Howto & Style       |6642         |5.760614272809395             |\n",
      "|27        |Education           |1941         |6.049459041731066             |\n",
      "|28        |Science & Technology|2099         |5.851834206765126             |\n",
      "+----------+--------------------+-------------+------------------------------+\n",
      "\n"
     ]
    },
    {
     "name": "stderr",
     "output_type": "stream",
     "text": [
      "                                                                                \r"
     ]
    }
   ],
   "source": [
    "# MEXICO\n",
    "# Crear una nueva columna con la diferencia de días entre trending_date y publishedAt\n",
    "data_set_with_diff_MX = data_set_MX.withColumn(\n",
    "    \"diff_days\", datediff(to_date(col(\"trending_date\")), to_date(col(\"publishedAt\")))\n",
    ")\n",
    "\n",
    "# Calcular el número de videos y el promedio de días a tendencia por categoría\n",
    "resultMX = data_set_with_diff_MX.groupBy(\"categoryId\").agg(\n",
    "    count(\"video_id\").alias(\"number_videos\"),\n",
    "    avg(\"diff_days\").alias(\"promedio_diff_dias_a_tendencia\")\n",
    ")\n",
    "\n",
    "\n",
    "resultMX = resultMX.orderBy(\"categoryId\")\n",
    "resultMX.show(truncate=False, n=100)\n",
    "\n",
    "\n",
    "# Unir el dataframe de categorías con el resultado\n",
    "resultMX = resultMX.join(data_set_categories_MX, resultMX.categoryId == data_set_categories_MX.category_id).drop(\"category_id\")\n",
    "resultMX = resultMX.select(\"categoryId\", \"category_name\", \"number_videos\", \"promedio_diff_dias_a_tendencia\")\n",
    "resultMX = resultMX.orderBy(col(\"categoryId\").cast(\"int\"))\n",
    "\n",
    "resultMX.show(truncate=False, n=100)\n"
   ]
  },
  {
   "cell_type": "code",
   "execution_count": 7,
   "metadata": {},
   "outputs": [
    {
     "name": "stdout",
     "output_type": "stream",
     "text": [
      "+----------+-------------+------------------------------+\n",
      "|categoryId|number_videos|promedio_diff_dias_a_tendencia|\n",
      "+----------+-------------+------------------------------+\n",
      "|1         |3329         |5.092520276359267             |\n",
      "|10        |58413        |5.187372673891086             |\n",
      "|15        |323          |4.501547987616099             |\n",
      "|17        |40716        |4.2722025739267115            |\n",
      "|19        |1403         |5.100498930862438             |\n",
      "|2         |2603         |5.1344602381867075            |\n",
      "|20        |40437        |4.708929940401118             |\n",
      "|22        |32594        |4.900349757624102             |\n",
      "|23        |10380        |4.869749518304432             |\n",
      "|24        |64925        |4.703273007316134             |\n",
      "|25        |4588         |4.838491717523976             |\n",
      "|26        |2026         |5.17324777887463              |\n",
      "|27        |3150         |4.6946031746031744            |\n",
      "|28        |3835         |4.876923076923077             |\n",
      "|29        |68           |5.044117647058823             |\n",
      "+----------+-------------+------------------------------+\n",
      "\n",
      "+----------+--------------------+-------------+------------------------------+\n",
      "|categoryId|category_name       |number_videos|promedio_diff_dias_a_tendencia|\n",
      "+----------+--------------------+-------------+------------------------------+\n",
      "|1         |Film & Animation    |3329         |5.092520276359267             |\n",
      "|2         |Autos & Vehicles    |2603         |5.1344602381867075            |\n",
      "|10        |Music               |58413        |5.187372673891086             |\n",
      "|15        |Pets & Animals      |323          |4.501547987616099             |\n",
      "|17        |Sports              |40716        |4.2722025739267115            |\n",
      "|19        |Travel & Events     |1403         |5.100498930862438             |\n",
      "|20        |Gaming              |40437        |4.708929940401118             |\n",
      "|22        |People & Blogs      |32594        |4.900349757624102             |\n",
      "|23        |Comedy              |10380        |4.869749518304432             |\n",
      "|24        |Entertainment       |64925        |4.703273007316134             |\n",
      "|25        |News & Politics     |4588         |4.838491717523976             |\n",
      "|26        |Howto & Style       |2026         |5.17324777887463              |\n",
      "|27        |Education           |3150         |4.6946031746031744            |\n",
      "|28        |Science & Technology|3835         |4.876923076923077             |\n",
      "+----------+--------------------+-------------+------------------------------+\n",
      "\n"
     ]
    }
   ],
   "source": [
    "# BRASIL\n",
    "# Crear una nueva columna con la diferencia de días entre trending_date y publishedAt\n",
    "data_set_with_diff_BR = data_set_BR.withColumn(\n",
    "    \"diff_days\", datediff(to_date(col(\"trending_date\")), to_date(col(\"publishedAt\")))\n",
    ")\n",
    "\n",
    "# Calcular el número de videos y el promedio de días a tendencia por categoría\n",
    "resultBR = data_set_with_diff_BR.groupBy(\"categoryId\").agg(\n",
    "    count(\"video_id\").alias(\"number_videos\"),\n",
    "    avg(\"diff_days\").alias(\"promedio_diff_dias_a_tendencia\")\n",
    ")\n",
    "\n",
    "resultBR = resultBR.orderBy(\"categoryId\")\n",
    "resultBR.show(truncate=False, n=100)\n",
    "\n",
    "# Unir el dataframe de categorías con el resultado\n",
    "resultBR = resultBR.join(data_set_categories_BR, resultBR.categoryId == data_set_categories_BR.category_id).drop(\"category_id\")\n",
    "resultBR = resultBR.select(\"categoryId\", \"category_name\", \"number_videos\", \"promedio_diff_dias_a_tendencia\")\n",
    "resultBR = resultBR.orderBy(col(\"categoryId\").cast(\"int\"))\n",
    "\n",
    "resultBR.show(truncate=False, n=100)\n"
   ]
  },
  {
   "cell_type": "code",
   "execution_count": 8,
   "metadata": {},
   "outputs": [
    {
     "name": "stderr",
     "output_type": "stream",
     "text": [
      "                                                                                \r"
     ]
    },
    {
     "name": "stdout",
     "output_type": "stream",
     "text": [
      "+----------+-------------+------------------------------+\n",
      "|categoryId|number_videos|promedio_diff_dias_a_tendencia|\n",
      "+----------+-------------+------------------------------+\n",
      "|1         |10923        |4.126613567701181             |\n",
      "|10        |43398        |4.201576109498133             |\n",
      "|15        |1222         |4.195581014729951             |\n",
      "|17        |31327        |4.039295176684649             |\n",
      "|19        |1713         |3.9859894921190895            |\n",
      "|2         |5492         |3.8923889293517844            |\n",
      "|20        |53242        |3.9522933022801547            |\n",
      "|22        |22653        |4.138392265925043             |\n",
      "|23        |13183        |4.17947356443905              |\n",
      "|24        |53934        |4.41489598398042              |\n",
      "|25        |9669         |4.5924087289275               |\n",
      "|26        |7100         |4.075633802816902             |\n",
      "|27        |6655         |4.07152516904583              |\n",
      "|28        |8156         |4.03077488965179              |\n",
      "|29        |120          |5.891666666666667             |\n",
      "+----------+-------------+------------------------------+\n",
      "\n",
      "+----------+---------------------+-------------+------------------------------+\n",
      "|categoryId|category_name        |number_videos|promedio_diff_dias_a_tendencia|\n",
      "+----------+---------------------+-------------+------------------------------+\n",
      "|1         |Film & Animation     |10923        |4.126613567701181             |\n",
      "|2         |Autos & Vehicles     |5492         |3.8923889293517844            |\n",
      "|10        |Music                |43398        |4.201576109498133             |\n",
      "|15        |Pets & Animals       |1222         |4.195581014729951             |\n",
      "|17        |Sports               |31327        |4.039295176684649             |\n",
      "|19        |Travel & Events      |1713         |3.9859894921190895            |\n",
      "|20        |Gaming               |53242        |3.9522933022801547            |\n",
      "|22        |People & Blogs       |22653        |4.138392265925043             |\n",
      "|23        |Comedy               |13183        |4.17947356443905              |\n",
      "|24        |Entertainment        |53934        |4.41489598398042              |\n",
      "|25        |News & Politics      |9669         |4.5924087289275               |\n",
      "|26        |Howto & Style        |7100         |4.075633802816902             |\n",
      "|27        |Education            |6655         |4.07152516904583              |\n",
      "|28        |Science & Technology |8156         |4.03077488965179              |\n",
      "|29        |Nonprofits & Activism|120          |5.891666666666667             |\n",
      "+----------+---------------------+-------------+------------------------------+\n",
      "\n"
     ]
    }
   ],
   "source": [
    "# ESTADOS UNIDOS\n",
    "# Crear una nueva columna con la diferencia de días entre trending_date y publishedAt\n",
    "data_set_with_diff_US = data_set_US.withColumn(\n",
    "    \"diff_days\", datediff(to_date(col(\"trending_date\")), to_date(col(\"publishedAt\")))\n",
    ")\n",
    "\n",
    "# Calcular el número de videos y el promedio de días a tendencia por categoría\n",
    "resultUS = data_set_with_diff_US.groupBy(\"categoryId\").agg(\n",
    "    count(\"video_id\").alias(\"number_videos\"),\n",
    "    avg(\"diff_days\").alias(\"promedio_diff_dias_a_tendencia\")\n",
    ")\n",
    "\n",
    "resultUS = resultUS.orderBy(\"categoryId\")\n",
    "resultUS.show(truncate=False, n=100)\n",
    "\n",
    "# Unir el dataframe de categorías con el resultado\n",
    "resultUS = resultUS.join(data_set_categories_US, resultUS.categoryId == data_set_categories_US.category_id).drop(\"category_id\")\n",
    "resultUS = resultUS.select(\"categoryId\", \"category_name\", \"number_videos\", \"promedio_diff_dias_a_tendencia\")\n",
    "resultUS = resultUS.orderBy(col(\"categoryId\").cast(\"int\"))\n",
    "\n",
    "resultUS.show(truncate=False, n=100)\n"
   ]
  },
  {
   "cell_type": "code",
   "execution_count": 9,
   "metadata": {},
   "outputs": [],
   "source": [
    "# Convertir los resultados a Pandas para poder graficar los resultados\n",
    "resultMXPandas = resultMX.toPandas()\n",
    "resultBRPandas = resultBR.toPandas()\n",
    "resultUSPandas = resultUS.toPandas()"
   ]
  },
  {
   "cell_type": "code",
   "execution_count": 10,
   "metadata": {},
   "outputs": [
    {
     "data": {
      "text/plain": [
       "<matplotlib.legend.Legend at 0x71381451d150>"
      ]
     },
     "execution_count": 10,
     "metadata": {},
     "output_type": "execute_result"
    },
    {
     "data": {
      "image/png": "[encoded data removed]",
      "text/plain": [
       "<Figure size 3000x1000 with 1 Axes>"
      ]
     },
     "metadata": {},
     "output_type": "display_data"
    }
   ],
   "source": [
    "# Graficar el promedio de días a tendencia por categoría en MX, BR y US\n",
    "\n",
    "# Ancho de las barras\n",
    "width = 0.2\n",
    "\n",
    "fig, axs = plt.subplots(1, 1, figsize=(30, 10))\n",
    "fig.suptitle(\"Comparación de promedio de días a tendencia por categoría entre MX, BR y US\")\n",
    "\n",
    "categoriesMXAligned = resultMXPandas[\"category_name\"].unique()\n",
    "categoriesBRAligned = resultBRPandas[\"category_name\"].unique()\n",
    "categoriesUSAligned = resultUSPandas[\"category_name\"].unique()\n",
    "\n",
    "xMX = np.arange(len(categoriesMXAligned))\n",
    "xBR = np.arange(len(categoriesBRAligned))\n",
    "xUS = np.arange(len(categoriesUSAligned))\n",
    "\n",
    "axs.bar(xMX - width, resultMXPandas[\"promedio_diff_dias_a_tendencia\"], width, color=\"blue\", label=\"México\")\n",
    "axs.bar(xBR, resultBRPandas[\"promedio_diff_dias_a_tendencia\"], width, color=\"orange\", label=\"Brasil\")\n",
    "axs.bar(xUS + width, resultUSPandas[\"promedio_diff_dias_a_tendencia\"], width, color=\"green\", label=\"Estados Unidos\")\n",
    "axs.set_xticks(np.arange(max(len(categoriesMXAligned), len(categoriesBRAligned), len(categoriesUSAligned))))\n",
    "axs.set_xticklabels(categoriesUSAligned, rotation=45, ha=\"right\")\n",
    "axs.set_ylabel(\"Promedio de días a tendencia\")\n",
    "axs.set_xlabel(\"Categoría\")\n",
    "axs.legend()"
   ]
  },
  {
   "cell_type": "markdown",
   "metadata": {},
   "source": [
    "# Versión SQL"
   ]
  },
  {
   "cell_type": "code",
   "execution_count": 11,
   "metadata": {},
   "outputs": [
    {
     "name": "stdout",
     "output_type": "stream",
     "text": [
      "+----------+--------------------+-------------+------------------------------+\n",
      "|categoryId|       category_name|number_videos|promedio_diff_dias_a_tendencia|\n",
      "+----------+--------------------+-------------+------------------------------+\n",
      "|         1|    Film & Animation|         7229|             6.055056024346382|\n",
      "|         2|    Autos & Vehicles|         2488|             5.616961414790997|\n",
      "|        10|               Music|        61626|             5.990783111024568|\n",
      "|        15|      Pets & Animals|          156|             6.455128205128205|\n",
      "|        17|              Sports|        25385|             5.067086862320268|\n",
      "|        19|     Travel & Events|         1640|             5.517682926829268|\n",
      "|        20|              Gaming|        42128|             5.888720091150779|\n",
      "|        22|      People & Blogs|        33959|             5.893135840277982|\n",
      "|        23|              Comedy|         9665|             5.635695809622349|\n",
      "|        24|       Entertainment|        63158|            5.7662845561924065|\n",
      "|        25|     News & Politics|        10307|             5.302803919666246|\n",
      "|        26|       Howto & Style|         6642|             5.760614272809395|\n",
      "|        27|           Education|         1941|             6.049459041731066|\n",
      "|        28|Science & Technology|         2099|             5.851834206765126|\n",
      "+----------+--------------------+-------------+------------------------------+\n",
      "\n"
     ]
    },
    {
     "name": "stderr",
     "output_type": "stream",
     "text": [
      "                                                                                \r"
     ]
    }
   ],
   "source": [
    "# Registrar el DataFrame como una vista temporal\n",
    "data_set_MX.createOrReplaceTempView(\"data_set_MX\")\n",
    "data_set_categories_MX.createOrReplaceTempView(\"data_set_categories_MX\")\n",
    "\n",
    "queryMX = \"\"\"\n",
    "WITH diferencia_dias_a_tendencia (video_id, categoryId, diff_days) AS (\n",
    "    SELECT video_id, categoryId, DATEDIFF(TO_DATE(trending_date), TO_DATE(publishedAt))\n",
    "    FROM data_set_MX\n",
    ")\n",
    "SELECT \n",
    "    d.categoryId, \n",
    "    c.category_name, \n",
    "    COUNT(d.video_id) AS number_videos, \n",
    "    AVG(d.diff_days) AS promedio_diff_dias_a_tendencia\n",
    "FROM diferencia_dias_a_tendencia d\n",
    "JOIN data_set_categories_MX c\n",
    "ON d.categoryId = c.category_id\n",
    "GROUP BY d.categoryId, c.category_name\n",
    "ORDER BY CAST(d.categoryId AS INT);\n",
    "\"\"\"\n",
    "\n",
    "# Ejecuta la consulta SQL\n",
    "resultSQLMX = spark.sql(queryMX)\n",
    "\n",
    "# Muestra el resultado\n",
    "resultSQLMX.show()\n",
    "\n"
   ]
  },
  {
   "cell_type": "code",
   "execution_count": 12,
   "metadata": {},
   "outputs": [
    {
     "name": "stderr",
     "output_type": "stream",
     "text": [
      "[Stage 71:====>                                                   (1 + 11) / 12]\r"
     ]
    },
    {
     "name": "stdout",
     "output_type": "stream",
     "text": [
      "+----------+--------------------+-------------+------------------------------+\n",
      "|categoryId|       category_name|number_videos|promedio_diff_dias_a_tendencia|\n",
      "+----------+--------------------+-------------+------------------------------+\n",
      "|         1|    Film & Animation|         3329|             5.092520276359267|\n",
      "|         2|    Autos & Vehicles|         2603|            5.1344602381867075|\n",
      "|        10|               Music|        58413|             5.187372673891086|\n",
      "|        15|      Pets & Animals|          323|             4.501547987616099|\n",
      "|        17|              Sports|        40716|            4.2722025739267115|\n",
      "|        19|     Travel & Events|         1403|             5.100498930862438|\n",
      "|        20|              Gaming|        40437|             4.708929940401118|\n",
      "|        22|      People & Blogs|        32594|             4.900349757624102|\n",
      "|        23|              Comedy|        10380|             4.869749518304432|\n",
      "|        24|       Entertainment|        64925|             4.703273007316134|\n",
      "|        25|     News & Politics|         4588|             4.838491717523976|\n",
      "|        26|       Howto & Style|         2026|              5.17324777887463|\n",
      "|        27|           Education|         3150|            4.6946031746031744|\n",
      "|        28|Science & Technology|         3835|             4.876923076923077|\n",
      "+----------+--------------------+-------------+------------------------------+\n",
      "\n"
     ]
    },
    {
     "name": "stderr",
     "output_type": "stream",
     "text": [
      "                                                                                \r"
     ]
    }
   ],
   "source": [
    "# Registrar el DataFrame como una vista temporal\n",
    "data_set_BR.createOrReplaceTempView(\"data_set_BR\")\n",
    "data_set_categories_BR.createOrReplaceTempView(\"data_set_categories_BR\")\n",
    "\n",
    "queryBR = \"\"\"\n",
    "WITH diferencia_dias_a_tendencia (video_id, categoryId, diff_days) AS (\n",
    "    SELECT video_id, categoryId, DATEDIFF(TO_DATE(trending_date), TO_DATE(publishedAt))\n",
    "    FROM data_set_BR\n",
    ")\n",
    "SELECT \n",
    "    d.categoryId, \n",
    "    c.category_name, \n",
    "    COUNT(d.video_id) AS number_videos, \n",
    "    AVG(d.diff_days) AS promedio_diff_dias_a_tendencia\n",
    "FROM diferencia_dias_a_tendencia d\n",
    "JOIN data_set_categories_BR c\n",
    "ON d.categoryId = c.category_id\n",
    "GROUP BY d.categoryId, c.category_name\n",
    "ORDER BY CAST(d.categoryId AS INT);\n",
    "\"\"\"\n",
    "\n",
    "# Ejecuta la consulta SQL\n",
    "resultSQLBR = spark.sql(queryBR)\n",
    "\n",
    "# Muestra el resultado\n",
    "resultSQLBR.show()\n",
    "\n"
   ]
  },
  {
   "cell_type": "code",
   "execution_count": 13,
   "metadata": {},
   "outputs": [
    {
     "name": "stdout",
     "output_type": "stream",
     "text": [
      "+----------+--------------------+-------------+------------------------------+\n",
      "|categoryId|       category_name|number_videos|promedio_diff_dias_a_tendencia|\n",
      "+----------+--------------------+-------------+------------------------------+\n",
      "|         1|    Film & Animation|        10923|             4.126613567701181|\n",
      "|         2|    Autos & Vehicles|         5492|            3.8923889293517844|\n",
      "|        10|               Music|        43398|             4.201576109498133|\n",
      "|        15|      Pets & Animals|         1222|             4.195581014729951|\n",
      "|        17|              Sports|        31327|             4.039295176684649|\n",
      "|        19|     Travel & Events|         1713|            3.9859894921190895|\n",
      "|        20|              Gaming|        53242|            3.9522933022801547|\n",
      "|        22|      People & Blogs|        22653|             4.138392265925043|\n",
      "|        23|              Comedy|        13183|              4.17947356443905|\n",
      "|        24|       Entertainment|        53934|              4.41489598398042|\n",
      "|        25|     News & Politics|         9669|               4.5924087289275|\n",
      "|        26|       Howto & Style|         7100|             4.075633802816902|\n",
      "|        27|           Education|         6655|              4.07152516904583|\n",
      "|        28|Science & Technology|         8156|              4.03077488965179|\n",
      "|        29|Nonprofits & Acti...|          120|             5.891666666666667|\n",
      "+----------+--------------------+-------------+------------------------------+\n",
      "\n"
     ]
    }
   ],
   "source": [
    "# Registrar el DataFrame como una vista temporal\n",
    "data_set_US.createOrReplaceTempView(\"data_set_US\")\n",
    "data_set_categories_US.createOrReplaceTempView(\"data_set_categories_US\")\n",
    "\n",
    "queryUS = \"\"\"\n",
    "WITH diferencia_dias_a_tendencia (video_id, categoryId, diff_days) AS (\n",
    "    SELECT video_id, categoryId, DATEDIFF(TO_DATE(trending_date), TO_DATE(publishedAt))\n",
    "    FROM data_set_US\n",
    ")\n",
    "SELECT \n",
    "    d.categoryId, \n",
    "    c.category_name, \n",
    "    COUNT(d.video_id) AS number_videos, \n",
    "    AVG(d.diff_days) AS promedio_diff_dias_a_tendencia\n",
    "FROM diferencia_dias_a_tendencia d\n",
    "JOIN data_set_categories_US c\n",
    "ON d.categoryId = c.category_id\n",
    "GROUP BY d.categoryId, c.category_name\n",
    "ORDER BY CAST(d.categoryId AS INT);\n",
    "\"\"\"\n",
    "\n",
    "# Ejecuta la consulta SQL\n",
    "resultSQLUS = spark.sql(queryUS)\n",
    "\n",
    "# Muestra el resultado\n",
    "resultSQLUS.show()\n",
    "\n"
   ]
  }
 ],
 "metadata": {
  "kernelspec": {
   "display_name": "Python 3",
   "language": "python",
   "name": "python3"
  },
  "language_info": {
   "codemirror_mode": {
    "name": "ipython",
    "version": 3
   },
   "file_extension": ".py",
   "mimetype": "text/x-python",
   "name": "python",
   "nbconvert_exporter": "python",
   "pygments_lexer": "ipython3",
   "version": "3.10.12"
  }
 },
 "nbformat": 4,
 "nbformat_minor": 2
}
